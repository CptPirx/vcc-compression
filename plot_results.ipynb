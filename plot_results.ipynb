{
 "cells": [
  {
   "cell_type": "code",
   "execution_count": 149,
   "metadata": {
    "collapsed": true,
    "pycharm": {
     "name": "#%%\n"
    }
   },
   "outputs": [],
   "source": [
    "import seaborn as sns\n",
    "import matplotlib.pyplot as plt\n",
    "import numpy as np\n",
    "import pandas as pd\n",
    "import os\n",
    "import glob\n",
    "import yaml\n",
    "from natsort import natsorted\n",
    "from PIL.Image import Image as im"
   ]
  },
  {
   "cell_type": "code",
   "execution_count": 150,
   "outputs": [],
   "source": [
    "df_results = pd.DataFrame(\n",
    "        columns={'method', 'scale', 'image_size', 'loss', 'test_mae', 'test_mse', 'train_mae', 'train_mse', 'val_mae', 'val_mse'})"
   ],
   "metadata": {
    "collapsed": false,
    "pycharm": {
     "name": "#%%\n"
    }
   }
  },
  {
   "cell_type": "code",
   "execution_count": 151,
   "outputs": [],
   "source": [
    "# List the results files\n",
    "color_result_files = glob.glob(\"color_results/sasnet*.yaml\")\n",
    "compressed_result_files = glob.glob(\"compressed_results/sasnet*.yaml\")\n",
    "resized_result_files = natsorted(glob.glob(\"resized_results/sasnet*.yaml\"))\n",
    "resized_alg_files = natsorted(glob.glob('resized_alg_results/sasnet*.yaml'))\n",
    "\n",
    "original_size = 2359.296"
   ],
   "metadata": {
    "collapsed": false,
    "pycharm": {
     "name": "#%%\n"
    }
   }
  },
  {
   "cell_type": "code",
   "execution_count": 152,
   "outputs": [
    {
     "name": "stderr",
     "output_type": "stream",
     "text": [
      "/tmp/ipykernel_192/3047836068.py:8: FutureWarning: The frame.append method is deprecated and will be removed from pandas in a future version. Use pandas.concat instead.\n",
      "  df_results = df_results.append(single_result, ignore_index=True)\n"
     ]
    }
   ],
   "source": [
    "# Add all the results to dataframe\n",
    "for f in color_result_files:\n",
    "    with open(f, \"r\") as stream:\n",
    "        single_result = yaml.load(stream, Loader=yaml.SafeLoader)\n",
    "    single_result['method'] = 'color'\n",
    "    single_result['scale'] = None\n",
    "    single_result['image_size'] = 768.432\n",
    "    df_results = df_results.append(single_result, ignore_index=True)"
   ],
   "metadata": {
    "collapsed": false,
    "pycharm": {
     "name": "#%%\n"
    }
   }
  },
  {
   "cell_type": "code",
   "execution_count": 153,
   "outputs": [
    {
     "name": "stderr",
     "output_type": "stream",
     "text": [
      "/tmp/ipykernel_192/1058979789.py:13: FutureWarning: The frame.append method is deprecated and will be removed from pandas in a future version. Use pandas.concat instead.\n",
      "  df_results = df_results.append(single_result, ignore_index=True)\n",
      "/tmp/ipykernel_192/1058979789.py:13: FutureWarning: The frame.append method is deprecated and will be removed from pandas in a future version. Use pandas.concat instead.\n",
      "  df_results = df_results.append(single_result, ignore_index=True)\n",
      "/tmp/ipykernel_192/1058979789.py:13: FutureWarning: The frame.append method is deprecated and will be removed from pandas in a future version. Use pandas.concat instead.\n",
      "  df_results = df_results.append(single_result, ignore_index=True)\n",
      "/tmp/ipykernel_192/1058979789.py:13: FutureWarning: The frame.append method is deprecated and will be removed from pandas in a future version. Use pandas.concat instead.\n",
      "  df_results = df_results.append(single_result, ignore_index=True)\n",
      "/tmp/ipykernel_192/1058979789.py:13: FutureWarning: The frame.append method is deprecated and will be removed from pandas in a future version. Use pandas.concat instead.\n",
      "  df_results = df_results.append(single_result, ignore_index=True)\n",
      "/tmp/ipykernel_192/1058979789.py:13: FutureWarning: The frame.append method is deprecated and will be removed from pandas in a future version. Use pandas.concat instead.\n",
      "  df_results = df_results.append(single_result, ignore_index=True)\n",
      "/tmp/ipykernel_192/1058979789.py:13: FutureWarning: The frame.append method is deprecated and will be removed from pandas in a future version. Use pandas.concat instead.\n",
      "  df_results = df_results.append(single_result, ignore_index=True)\n",
      "/tmp/ipykernel_192/1058979789.py:13: FutureWarning: The frame.append method is deprecated and will be removed from pandas in a future version. Use pandas.concat instead.\n",
      "  df_results = df_results.append(single_result, ignore_index=True)\n",
      "/tmp/ipykernel_192/1058979789.py:13: FutureWarning: The frame.append method is deprecated and will be removed from pandas in a future version. Use pandas.concat instead.\n",
      "  df_results = df_results.append(single_result, ignore_index=True)\n",
      "/tmp/ipykernel_192/1058979789.py:13: FutureWarning: The frame.append method is deprecated and will be removed from pandas in a future version. Use pandas.concat instead.\n",
      "  df_results = df_results.append(single_result, ignore_index=True)\n",
      "/tmp/ipykernel_192/1058979789.py:13: FutureWarning: The frame.append method is deprecated and will be removed from pandas in a future version. Use pandas.concat instead.\n",
      "  df_results = df_results.append(single_result, ignore_index=True)\n",
      "/tmp/ipykernel_192/1058979789.py:13: FutureWarning: The frame.append method is deprecated and will be removed from pandas in a future version. Use pandas.concat instead.\n",
      "  df_results = df_results.append(single_result, ignore_index=True)\n",
      "/tmp/ipykernel_192/1058979789.py:13: FutureWarning: The frame.append method is deprecated and will be removed from pandas in a future version. Use pandas.concat instead.\n",
      "  df_results = df_results.append(single_result, ignore_index=True)\n",
      "/tmp/ipykernel_192/1058979789.py:13: FutureWarning: The frame.append method is deprecated and will be removed from pandas in a future version. Use pandas.concat instead.\n",
      "  df_results = df_results.append(single_result, ignore_index=True)\n",
      "/tmp/ipykernel_192/1058979789.py:13: FutureWarning: The frame.append method is deprecated and will be removed from pandas in a future version. Use pandas.concat instead.\n",
      "  df_results = df_results.append(single_result, ignore_index=True)\n"
     ]
    }
   ],
   "source": [
    "# Add all the results to dataframe\n",
    "with open('compressed_results/image_sizes.yaml', \"r\") as stream:\n",
    "    compressed_sizes = yaml.load(stream, Loader=yaml.SafeLoader)\n",
    "    compressed_sizes.reverse()\n",
    "for i, f in enumerate(compressed_result_files):\n",
    "    s = f.split('_')\n",
    "    compression = float(s[4])\n",
    "    with open(f, \"r\") as stream:\n",
    "        single_result = yaml.load(stream, Loader=yaml.SafeLoader)\n",
    "    single_result['method'] = 'compression'\n",
    "    single_result['scale'] = compression * 100\n",
    "    single_result['image_size'] = compressed_sizes[i] / 1000\n",
    "    df_results = df_results.append(single_result, ignore_index=True)"
   ],
   "metadata": {
    "collapsed": false,
    "pycharm": {
     "name": "#%%\n"
    }
   }
  },
  {
   "cell_type": "code",
   "execution_count": 154,
   "outputs": [
    {
     "name": "stderr",
     "output_type": "stream",
     "text": [
      "/tmp/ipykernel_192/2740551548.py:13: FutureWarning: The frame.append method is deprecated and will be removed from pandas in a future version. Use pandas.concat instead.\n",
      "  df_results = df_results.append(single_result, ignore_index=True)\n",
      "/tmp/ipykernel_192/2740551548.py:13: FutureWarning: The frame.append method is deprecated and will be removed from pandas in a future version. Use pandas.concat instead.\n",
      "  df_results = df_results.append(single_result, ignore_index=True)\n",
      "/tmp/ipykernel_192/2740551548.py:13: FutureWarning: The frame.append method is deprecated and will be removed from pandas in a future version. Use pandas.concat instead.\n",
      "  df_results = df_results.append(single_result, ignore_index=True)\n",
      "/tmp/ipykernel_192/2740551548.py:13: FutureWarning: The frame.append method is deprecated and will be removed from pandas in a future version. Use pandas.concat instead.\n",
      "  df_results = df_results.append(single_result, ignore_index=True)\n",
      "/tmp/ipykernel_192/2740551548.py:13: FutureWarning: The frame.append method is deprecated and will be removed from pandas in a future version. Use pandas.concat instead.\n",
      "  df_results = df_results.append(single_result, ignore_index=True)\n",
      "/tmp/ipykernel_192/2740551548.py:13: FutureWarning: The frame.append method is deprecated and will be removed from pandas in a future version. Use pandas.concat instead.\n",
      "  df_results = df_results.append(single_result, ignore_index=True)\n",
      "/tmp/ipykernel_192/2740551548.py:13: FutureWarning: The frame.append method is deprecated and will be removed from pandas in a future version. Use pandas.concat instead.\n",
      "  df_results = df_results.append(single_result, ignore_index=True)\n",
      "/tmp/ipykernel_192/2740551548.py:13: FutureWarning: The frame.append method is deprecated and will be removed from pandas in a future version. Use pandas.concat instead.\n",
      "  df_results = df_results.append(single_result, ignore_index=True)\n",
      "/tmp/ipykernel_192/2740551548.py:13: FutureWarning: The frame.append method is deprecated and will be removed from pandas in a future version. Use pandas.concat instead.\n",
      "  df_results = df_results.append(single_result, ignore_index=True)\n",
      "/tmp/ipykernel_192/2740551548.py:20: FutureWarning: The frame.append method is deprecated and will be removed from pandas in a future version. Use pandas.concat instead.\n",
      "  df_results = df_results.append(original_result, ignore_index=True)\n"
     ]
    }
   ],
   "source": [
    "# Add all the results to dataframe\n",
    "with open('resized_results/image_sizes.yaml', \"r\") as stream:\n",
    "    resized_sizes = yaml.load(stream, Loader=yaml.SafeLoader)\n",
    "    resized_sizes.reverse()\n",
    "for i, f in enumerate(resized_result_files):\n",
    "    s = f.split('_')\n",
    "    scale = float(s[2])\n",
    "    with open(f, \"r\") as stream:\n",
    "        single_result = yaml.load(stream, Loader=yaml.SafeLoader)\n",
    "    single_result['method'] = 'resize'\n",
    "    single_result['scale'] = scale\n",
    "    single_result['image_size'] = resized_sizes[i]\n",
    "    df_results = df_results.append(single_result, ignore_index=True)\n",
    "\n",
    "original_result = {'method': 'resize',\n",
    "                   'scale': 1,\n",
    "                   'image_size': original_size,\n",
    "                   'test_mae': 6.35,\n",
    "                   'test_mse': 9.9}\n",
    "df_results = df_results.append(original_result, ignore_index=True)"
   ],
   "metadata": {
    "collapsed": false,
    "pycharm": {
     "name": "#%%\n"
    }
   }
  },
  {
   "cell_type": "code",
   "execution_count": 155,
   "outputs": [
    {
     "name": "stdout",
     "output_type": "stream",
     "text": [
      "         method  scale  test_mae  test_mse  image_size\n",
      "0         color    NaN      7.92     12.25       32.57\n",
      "1   compression    5.0     13.67     21.17        1.52\n",
      "2   compression   10.0     10.07     18.11        2.20\n",
      "3   compression   15.0      8.10     13.57        2.70\n",
      "4   compression   20.0      7.29     11.93        3.24\n",
      "5   compression   25.0      7.14     11.43        3.86\n",
      "6   compression   30.0      6.80     10.83        4.26\n",
      "7   compression   35.0      6.86     10.83        4.44\n",
      "8   compression   40.0      6.91     10.61        4.68\n",
      "9   compression   45.0      6.83     10.91        4.92\n",
      "10  compression   50.0      6.83     10.50        6.28\n",
      "11  compression   55.0      6.57     10.56        6.91\n",
      "12  compression   60.0      6.40     10.23        7.13\n",
      "13  compression   65.0      6.58     10.29        7.40\n",
      "14  compression   70.0      6.37     10.04        7.83\n",
      "15  compression   75.0      6.52      9.94        8.20\n",
      "16       resize   10.0     39.90     59.14        0.99\n",
      "17       resize   20.0     29.04     43.72        3.97\n",
      "18       resize   30.0     18.34     27.86        8.98\n",
      "19       resize   40.0     12.18     23.74       15.97\n",
      "20       resize   50.0      9.91     19.87       25.00\n",
      "21       resize   60.0     10.74     18.63       35.91\n",
      "22       resize   70.0      9.02     17.88       48.89\n",
      "23       resize   80.0      7.55     11.30       63.94\n",
      "24       resize   90.0      6.65     10.32       80.92\n",
      "25       resize    1.0      6.35      9.90      100.00\n"
     ]
    },
    {
     "name": "stderr",
     "output_type": "stream",
     "text": [
      "/tmp/ipykernel_192/3256719418.py:2: SettingWithCopyWarning: \n",
      "A value is trying to be set on a copy of a slice from a DataFrame.\n",
      "Try using .loc[row_indexer,col_indexer] = value instead\n",
      "\n",
      "See the caveats in the documentation: https://pandas.pydata.org/pandas-docs/stable/user_guide/indexing.html#returning-a-view-versus-a-copy\n",
      "  overleaf_results['image_size'] = overleaf_results['image_size'] / original_size * 100\n"
     ]
    }
   ],
   "source": [
    "overleaf_results = df_results[['method', 'scale', 'test_mae', 'test_mse', 'image_size']]\n",
    "overleaf_results['image_size'] = overleaf_results['image_size'] / original_size * 100\n",
    "overleaf_compression = np.round(overleaf_results, decimals=2)\n",
    "print(overleaf_compression)\n",
    "# df_results.to_csv('Results.csv')"
   ],
   "metadata": {
    "collapsed": false,
    "pycharm": {
     "name": "#%%\n"
    }
   }
  },
  {
   "cell_type": "code",
   "execution_count": 156,
   "outputs": [
    {
     "name": "stderr",
     "output_type": "stream",
     "text": [
      "/tmp/ipykernel_192/2485603508.py:11: FutureWarning: The frame.append method is deprecated and will be removed from pandas in a future version. Use pandas.concat instead.\n",
      "  df_resized_alg = df_resized_alg.append(single_result, ignore_index=True)\n",
      "/tmp/ipykernel_192/2485603508.py:11: FutureWarning: The frame.append method is deprecated and will be removed from pandas in a future version. Use pandas.concat instead.\n",
      "  df_resized_alg = df_resized_alg.append(single_result, ignore_index=True)\n",
      "/tmp/ipykernel_192/2485603508.py:11: FutureWarning: The frame.append method is deprecated and will be removed from pandas in a future version. Use pandas.concat instead.\n",
      "  df_resized_alg = df_resized_alg.append(single_result, ignore_index=True)\n",
      "/tmp/ipykernel_192/2485603508.py:11: FutureWarning: The frame.append method is deprecated and will be removed from pandas in a future version. Use pandas.concat instead.\n",
      "  df_resized_alg = df_resized_alg.append(single_result, ignore_index=True)\n",
      "/tmp/ipykernel_192/2485603508.py:11: FutureWarning: The frame.append method is deprecated and will be removed from pandas in a future version. Use pandas.concat instead.\n",
      "  df_resized_alg = df_resized_alg.append(single_result, ignore_index=True)\n",
      "/tmp/ipykernel_192/2485603508.py:11: FutureWarning: The frame.append method is deprecated and will be removed from pandas in a future version. Use pandas.concat instead.\n",
      "  df_resized_alg = df_resized_alg.append(single_result, ignore_index=True)\n",
      "/tmp/ipykernel_192/2485603508.py:11: FutureWarning: The frame.append method is deprecated and will be removed from pandas in a future version. Use pandas.concat instead.\n",
      "  df_resized_alg = df_resized_alg.append(single_result, ignore_index=True)\n",
      "/tmp/ipykernel_192/2485603508.py:11: FutureWarning: The frame.append method is deprecated and will be removed from pandas in a future version. Use pandas.concat instead.\n",
      "  df_resized_alg = df_resized_alg.append(single_result, ignore_index=True)\n"
     ]
    }
   ],
   "source": [
    "df_resized_alg = pd.DataFrame(\n",
    "        columns={'method', 'scale', 'image_size', 'loss', 'test_mae', 'test_mse', 'train_mae', 'train_mse', 'val_mae', 'val_mse'})\n",
    "\n",
    "for i, f in enumerate(resized_alg_files):\n",
    "    s = f.split('_')\n",
    "    scale = float(s[3])\n",
    "    with open(f, \"r\") as stream:\n",
    "        single_result = yaml.load(stream, Loader=yaml.SafeLoader)\n",
    "    single_result['method'] = s[4]\n",
    "    single_result['scale'] = scale\n",
    "    df_resized_alg = df_resized_alg.append(single_result, ignore_index=True)"
   ],
   "metadata": {
    "collapsed": false,
    "pycharm": {
     "name": "#%%\n"
    }
   }
  },
  {
   "cell_type": "code",
   "execution_count": 157,
   "outputs": [
    {
     "name": "stdout",
     "output_type": "stream",
     "text": [
      "     method  scale  test_mae  test_mse image_size\n",
      "0   bicubic   30.0     19.11     30.37        NaN\n",
      "1  bilinear   30.0     16.62     26.73        NaN\n",
      "2   lanczos   30.0     18.87     30.12        NaN\n",
      "3   nearest   30.0     18.34     27.86        NaN\n",
      "4   bicubic   60.0     10.88     19.54        NaN\n",
      "5  bilinear   60.0     10.34     18.82        NaN\n",
      "6   lanczos   60.0     10.45     18.10        NaN\n",
      "7   nearest   60.0     10.74     18.63        NaN\n"
     ]
    },
    {
     "name": "stderr",
     "output_type": "stream",
     "text": [
      "/tmp/ipykernel_192/2368259476.py:2: SettingWithCopyWarning: \n",
      "A value is trying to be set on a copy of a slice from a DataFrame.\n",
      "Try using .loc[row_indexer,col_indexer] = value instead\n",
      "\n",
      "See the caveats in the documentation: https://pandas.pydata.org/pandas-docs/stable/user_guide/indexing.html#returning-a-view-versus-a-copy\n",
      "  overleaf_resize_algs['image_size'] = overleaf_resize_algs['image_size'] / original_size * 100\n"
     ]
    }
   ],
   "source": [
    "overleaf_resize_algs = df_resized_alg[['method', 'scale', 'test_mae', 'test_mse', 'image_size']]\n",
    "overleaf_resize_algs['image_size'] = overleaf_resize_algs['image_size'] / original_size * 100\n",
    "overleaf_resize_algs = np.round(overleaf_resize_algs, decimals=2)\n",
    "print(overleaf_resize_algs)"
   ],
   "metadata": {
    "collapsed": false,
    "pycharm": {
     "name": "#%%\n"
    }
   }
  },
  {
   "cell_type": "code",
   "execution_count": 158,
   "outputs": [
    {
     "data": {
      "text/plain": "<Figure size 432x288 with 1 Axes>",
      "image/png": "[encoded data removed]"
     },
     "metadata": {},
     "output_type": "display_data"
    },
    {
     "data": {
      "text/plain": "<Figure size 432x288 with 1 Axes>",
      "image/png": "[encoded data removed]"
     },
     "metadata": {},
     "output_type": "display_data"
    }
   ],
   "source": [
    "# %matplotlib qt\n",
    "# Plot the compression results\n",
    "sns.set_context('paper')\n",
    "sns.set_theme(style='whitegrid')\n",
    "\n",
    "df_compression = df_results.loc[df_results['method'] == 'compression']\n",
    "df_resize = df_results.loc[df_results['method'] == 'resize']\n",
    "df_color = df_results.loc[df_results['method'] == 'color']\n",
    "\n",
    "figure, ax1 = plt.subplots()\n",
    "ax1 = sns.lineplot(x=df_compression['image_size'] / original_size * 100,\n",
    "         y=df_compression['test_mae'],\n",
    "         linewidth=0.5,\n",
    "         zorder=1,\n",
    "         color='red',\n",
    "         marker='o',\n",
    "         label=\"JPEG compression\")\n",
    "\n",
    "ax1= sns.lineplot(x=df_resize['image_size'] / original_size * 100,\n",
    "         y=df_resize['test_mae'],\n",
    "         linewidth=0.5,\n",
    "         zorder=1,\n",
    "         color='blue',\n",
    "         marker='o',\n",
    "         label=\"Uniform downsampling\")\n",
    "\n",
    "ax1 = sns.scatterplot(x=df_color['image_size'] / original_size * 100,\n",
    "            y=df_color['test_mae'][0],\n",
    "            marker=\"*\",\n",
    "            s=200,\n",
    "            color='green',\n",
    "            label='Grayscaling')\n",
    "plt.legend()\n",
    "ax1.set_ylabel('MAE')\n",
    "ax1.set_xlabel('Percentage of original image size in memory')\n",
    "plt.savefig('mae_plot.png', dpi=300)\n",
    "\n",
    "figure_2, ax2 = plt.subplots()\n",
    "ax2 = sns.lineplot(x=df_compression['image_size'] / original_size * 100,\n",
    "         y=df_compression['test_mse'],\n",
    "         linewidth=0.5,\n",
    "         zorder=1,\n",
    "         color='red',\n",
    "         marker='o',\n",
    "         label=\"JPEG compression\")\n",
    "\n",
    "ax2 = sns.lineplot(x=df_resize['image_size'] / original_size * 100,\n",
    "         y=df_resize['test_mse'],\n",
    "         linewidth=0.5,\n",
    "         zorder=1,\n",
    "         color='blue',\n",
    "         marker='o',\n",
    "         label=\"Uniform downsampling\")\n",
    "\n",
    "ax2 = sns.scatterplot(x=df_color['image_size'] / original_size * 100,\n",
    "            y=df_color['test_mse'][0],\n",
    "            marker=\"*\",\n",
    "            s=200,\n",
    "            color='green',\n",
    "            label='Grayscaling')\n",
    "plt.legend()\n",
    "ax2.set_ylabel('MSE')\n",
    "ax2.set_xlabel('Percentage of original image size in memory')\n",
    "plt.savefig('mse_plot.png', dpi=300)"
   ],
   "metadata": {
    "collapsed": false,
    "pycharm": {
     "name": "#%%\n"
    }
   }
  }
 ],
 "metadata": {
  "kernelspec": {
   "name": "marvel",
   "language": "python",
   "display_name": "marvel"
  },
  "language_info": {
   "codemirror_mode": {
    "name": "ipython",
    "version": 2
   },
   "file_extension": ".py",
   "mimetype": "text/x-python",
   "name": "python",
   "nbconvert_exporter": "python",
   "pygments_lexer": "ipython2",
   "version": "2.7.6"
  }
 },
 "nbformat": 4,
 "nbformat_minor": 0
}